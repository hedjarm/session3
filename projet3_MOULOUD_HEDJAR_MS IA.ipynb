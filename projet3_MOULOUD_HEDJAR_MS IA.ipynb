{
 "cells": [
  {
   "cell_type": "markdown",
   "metadata": {},
   "source": [
    "# Projet maison n° 3"
   ]
  },
  {
   "cell_type": "code",
   "execution_count": 1,
   "metadata": {},
   "outputs": [],
   "source": [
    "# imports\n",
    "import pandas as pd\n",
    "from pathlib import Path"
   ]
  },
  {
   "cell_type": "markdown",
   "metadata": {},
   "source": [
    "## 1. US baby names\n",
    "\n",
    "On va s'intéresser au dataset **National data** de la SSA : https://www.ssa.gov/oact/babynames/limits.html\n",
    "\n",
    "1. Télécharger le dataset des prénoms US : https://www.ssa.gov/oact/babynames/names.zip\n",
    "\n",
    "Lire la documentation associée.\n",
    "\n",
    "2. Implémenter une fonction Python `df_names_us()` qui produit un unique DataFrame avec tous les fichiers en utilisant **pandas** (par ex. avec la fonction `pandas.concat()`), pas de bash :)\n",
    "\n",
    "Ordre et noms des colonnes du DataFrame : \"year\", \"name\", \"gender\", \"births\"\n",
    "\n",
    "Le DataFrame doit être trié selon l'année croissante puis selon l'ordre défini dans les différents fichiers (voir la documentation du dataset)."
   ]
  },
  {
   "cell_type": "code",
   "execution_count": 2,
   "metadata": {},
   "outputs": [],
   "source": [
    "# names us\n",
    "def df_names_us():\n",
    "    dirpath= Path('./names/')\n",
    "    df = pd.DataFrame()\n",
    "    for file in dirpath.glob('*.txt'): \n",
    "        with open(file, 'r', encoding= 'utf-8') as f:\n",
    "            df_us= pd.read_csv(f, sep=\",\", header=None, names=[\"name\",\"gender\",\"births\"])\n",
    "            df_us.insert(0, \"year\", value= file.name[3:7], allow_duplicates=False)                 \n",
    "            df=pd.concat([df,df_us])\n",
    "    df.sort_values(by =[\"year\"], ascending = [True], inplace=True) \n",
    "    df.index= pd.RangeIndex(start=0, stop=len(df)) \n",
    "    return df"
   ]
  },
  {
   "cell_type": "markdown",
   "metadata": {},
   "source": [
    "## 2. Prénoms français"
   ]
  },
  {
   "cell_type": "markdown",
   "metadata": {},
   "source": [
    "On va s'intéresser au dataset **Fichiers France hors Mayotte** de l'INSEE :  https://www.insee.fr/fr/statistiques/2540004/\n",
    "\n",
    "L'idée est de charger les données et ensuite de les conformer au DataFrame des prénoms US. Ainsi, toute manipulation sur le DataFrame des prénoms US pourra être directement réutilisée avec le DataFrame des prénoms français.\n",
    " \n",
    "1. Télécharger le dataset des prénoms français : https://www.insee.fr/fr/statistiques/fichier/2540004/nat2021_csv.zip\n",
    "\n",
    "\n",
    "Lire la documentation, ça peut être utile...\n",
    " \n",
    "2. Implémenter une fonction `df_names_fr()` qui produit un DataFrame avec les prénoms français en prenant le DataFrame des prénoms US comme modèle :\n",
    " \n",
    " - Même ordre et mêmes noms des colonnes : \"year\", \"name\", \"gender\", \"births\"\n",
    " - Mêmes dtypes pour les colonnes\n",
    " - Mêmes valeurs pour la colonne \"gender\"\n",
    " - Seuls les prénoms de 2 caractères et plus sont conservés\n",
    " - La casse des prénoms doit être identique : initiales en majuscule, autres lettres en minuscule\n",
    " - Les lignes avec des données inutilisables doivent être supprimées\n",
    " - Les données sont triées à l'identique : year (↑), puis gender (↑), puis births (↓) et enfin name (↑)\n",
    " - L'index du DataFrame doit aller de 0 à N-1"
   ]
  },
  {
   "cell_type": "code",
   "execution_count": 3,
   "metadata": {},
   "outputs": [],
   "source": [
    "# names fr\n",
    "def df_names_fr():\n",
    "    #Monter le fichier       \n",
    "    file=Path('./nat2021_csv/nat2021.csv')\n",
    "    df = pd.DataFrame()\n",
    "    with open(file, 'r', encoding= 'utf-8') as f:\n",
    "        df= pd.read_csv(f, sep=\";\", keep_default_na= False, names=[\"gender\",\"name\", \"year\",\"births\"])\n",
    "        # Même ordre et mêmes noms des colonnes : \"year\", \"name\", \"gender\", \"births\"\n",
    "        df=df[[\"year\",\"name\",\"gender\",\"births\"]]     \n",
    "        # supprimer la ligne des etiquettes de colonne à l'index 0\n",
    "        df.drop(0, inplace=True)  \n",
    "        # Supprimer les lignes contenant NaN\n",
    "        df.dropna(inplace=True)        \n",
    "        # La casse des prénoms : initiales en majuscule, autres lettres en minuscule\n",
    "        df['name'] = df['name'].str.capitalize()\n",
    "        # traitement du gender    \n",
    "        df['gender']=df['gender'].astype(int)\n",
    "        mapping = { '1': 'M', '2': 'F'}    \n",
    "        df['gender'] = df['gender'].map(lambda x: mapping.get(str(x),x))   \n",
    "        # Les lignes avec des données inutilisables doivent être supprimées :\n",
    "        # Seuls les prénoms de 2 caractères et plus sont conservés\n",
    "        # year uniquement numeric\n",
    "        # Name different de _prenoms_rares\n",
    "        df.drop(df.loc[(df[\"name\"].str.len()< 2)| (df[\"year\"].str.isnumeric()== False)\n",
    "                      | (df[\"name\"]=='_prenoms_rares')].index, inplace=True)        \n",
    "        df[\"name\"]= df['name'] = df['name'].str.replace('-','')\n",
    "        # Les données sont triées à l'identique : year (↑), puis gender (↑), puis births (↓) et enfin name (↑)\n",
    "        df.sort_values(by =[\"year\",\"gender\",\"births\",\"name\"], ascending = [True, True,False,True], inplace=True)  \n",
    "        # L'index du DataFrame doit aller de 0 à N-1\n",
    "        df.index= pd.RangeIndex(start=0, stop=len(df)) \n",
    "    return df"
   ]
  },
  {
   "cell_type": "markdown",
   "metadata": {},
   "source": [
    "## 3. Taux de change\n",
    "\n",
    "On va s'intéresser au dataset des cours des devises de la Banque de France :  http://webstat.banque-france.fr/fr/browseBox.do?node=5385566\n",
    "\n",
    "Les données sont dans le fichier \"Webstat_Export.csv\".\n",
    "\n",
    "L'idée est de charger les données, de les nettoyer et de pouvoir accéder aux cours de certaines devises à partir de leur code ISO3. On retiendra uniquement les colonnes se terminant effectivement par un code ISO3 entre parenthèses. Par ex., \"Dollar des Etats-Unis (USD)\".\n",
    "\n",
    "Implémenter une fonction `df_taux_change()` qui produit un DataFrame avec les taux de change par date pour une liste de codes ISO3 de devises passée en argument. L'index du DataFrame doit correspondre aux dates (voir la fonction `pd.to_datetime()` avec le format`\"%d/%m/%Y\"`) et doit être trié par ordre croissant. Les colonnes du DataFrame doivent correspondre aux devises sélectionnées."
   ]
  },
  {
   "cell_type": "code",
   "execution_count": 4,
   "metadata": {},
   "outputs": [],
   "source": [
    "# taux de change\n",
    "def df_taux_change(devises):\n",
    "    file = Path('Webstat_Export.csv')\n",
    "    with open(file, 'r', encoding= 'utf-8') as f:\n",
    "        missing_values = ['-']\n",
    "        df= pd.read_csv(f, sep=\";\", na_values = missing_values)\n",
    "    # Prèparer les données\n",
    "    df =(df\n",
    "        .iloc[5:]\n",
    "        .rename(columns={'Titre :':'Date'})    \n",
    "        )\n",
    "\n",
    "    df[\".Date\"] = pd.to_datetime(df['Date'], format=\"%d/%m/%Y\")\n",
    "    # Modification de l'index    \n",
    "    # Supprimer les valeurs manquantes\n",
    "    df = (df\n",
    "          .set_index('Date', drop=True)          \n",
    "          .dropna()           \n",
    "         )\n",
    "    # Supprimer les doublants\n",
    "    df= df.drop_duplicates() \n",
    "    df.index = pd.to_datetime(df.index)\n",
    "    # Trier les données par ordre croissant\n",
    "    df.sort_index(inplace=True)\n",
    "    # Renommer les colonne par les code ISO3\n",
    "    columns= [col for col in df.columns if col.find('(')!= -1 & len(col[col.find('(')+1 : col.find(')')])==3]\n",
    "    df= df[columns]\n",
    "    columns_iso3=[col[col.find('(') + 1 : col.find(')')] for col in columns]\n",
    "    df.set_axis(columns_iso3, axis = 1, inplace=True)    \n",
    "    # Formater les dicimals\n",
    "    for col in columns_iso3:\n",
    "        df[col]= df[col].str.replace(',', '.') \n",
    "    # convertir le DataFrame en Float\n",
    "    df=df.astype(float)\n",
    "    df = pd.DataFrame(df, columns=devises)\n",
    "    return df"
   ]
  },
  {
   "cell_type": "markdown",
   "metadata": {},
   "source": [
    "### Tests"
   ]
  },
  {
   "cell_type": "code",
   "execution_count": 5,
   "metadata": {},
   "outputs": [],
   "source": [
    "import unittest\n",
    "\n",
    "class Session3Tests(unittest.TestCase):\n",
    "    def test_df_names_us(self):\n",
    "        df = df_names_us()\n",
    "        # colonnes\n",
    "        self.assertEqual(list(df.columns), [\"year\", \"name\", \"gender\", \"births\"])\n",
    "        # lignes\n",
    "        self.assertEqual(len(df), 2052781)\n",
    "        # index\n",
    "        self.assertTrue(isinstance(df.index, pd.core.indexes.range.RangeIndex))\n",
    "        # test NaN\n",
    "        self.assertTrue(df.loc[df.isnull().any(axis=1)].empty)\n",
    "        \n",
    "    def test_df_names_fr(self):\n",
    "        df = df_names_fr()\n",
    "        # colonnes\n",
    "        self.assertEqual(list(df.columns), [\"year\", \"name\", \"gender\", \"births\"])\n",
    "        # lignes\n",
    "        self.assertEqual(len(df), 648330)\n",
    "        # index\n",
    "        self.assertTrue(isinstance(df.index, pd.RangeIndex))\n",
    "        # test names\n",
    "        self.assertTrue(df.loc[df.name.str.contains(r\"^[A-Z]+$\")].empty)\n",
    "        self.assertTrue(df.loc[df.name.str.contains(r\"-[a-z]+$\")].empty)\n",
    "        # test gender\n",
    "        self.assertEqual(len(df), len(df.loc[df.gender==\"F\"]) + len(df.loc[df.gender=='M']))\n",
    "        # test NaN\n",
    "        self.assertTrue(df.loc[df.isnull().any(axis=1)].empty)\n",
    "\n",
    "    def test_df_taux_change(self):\n",
    "        df = df_taux_change([\"CHF\", \"GBP\", \"USD\"])\n",
    "        # colonnes\n",
    "        self.assertEqual(list(df.columns), [\"CHF\", \"GBP\", \"USD\"])\n",
    "        # index\n",
    "        self.assertTrue(isinstance(df.index, pd.DatetimeIndex))\n",
    "        # index trié\n",
    "        self.assertEqual(list(df.index.argsort()), list(range(len(df))))\n",
    "        # types taux\n",
    "        self.assertTrue((df.dtypes == float).all())\n",
    "        # test NaN\n",
    "        self.assertTrue(df.loc[df.isnull().any(axis=1)].empty)"
   ]
  },
  {
   "cell_type": "code",
   "execution_count": 6,
   "metadata": {},
   "outputs": [],
   "source": [
    "# run tests\n",
    "def run_tests():\n",
    "    test_suite = unittest.makeSuite(Session3Tests)\n",
    "    runner = unittest.TextTestRunner(verbosity=2)\n",
    "    runner.run(test_suite)"
   ]
  },
  {
   "cell_type": "code",
   "execution_count": 7,
   "metadata": {},
   "outputs": [
    {
     "name": "stderr",
     "output_type": "stream",
     "text": [
      "test_df_names_fr (__main__.Session3Tests) ... C:\\Users\\mhedjar\\Anaconda3\\lib\\unittest\\case.py:676: DtypeWarning: Columns (0,3) have mixed types.Specify dtype option on import or set low_memory=False.\n",
      "  self._callTestMethod(testMethod)\n",
      "ok\n",
      "test_df_names_us (__main__.Session3Tests) ... ok\n",
      "test_df_taux_change (__main__.Session3Tests) ... ok\n",
      "\n",
      "----------------------------------------------------------------------\n",
      "Ran 3 tests in 24.635s\n",
      "\n",
      "OK\n"
     ]
    }
   ],
   "source": [
    "# run tests\n",
    "run_tests()"
   ]
  },
  {
   "cell_type": "code",
   "execution_count": null,
   "metadata": {},
   "outputs": [],
   "source": []
  }
 ],
 "metadata": {
  "kernelspec": {
   "display_name": "Python 3",
   "language": "python",
   "name": "python3"
  },
  "language_info": {
   "codemirror_mode": {
    "name": "ipython",
    "version": 3
   },
   "file_extension": ".py",
   "mimetype": "text/x-python",
   "name": "python",
   "nbconvert_exporter": "python",
   "pygments_lexer": "ipython3",
   "version": "3.8.5"
  }
 },
 "nbformat": 4,
 "nbformat_minor": 4
}
